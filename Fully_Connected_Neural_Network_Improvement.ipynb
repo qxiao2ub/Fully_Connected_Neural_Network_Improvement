{
 "cells": [
  {
   "cell_type": "code",
   "execution_count": 1,
   "id": "c858542a",
   "metadata": {},
   "outputs": [
    {
     "data": {
      "image/png": "[encoded data removed]",
      "text/plain": [
       "<Figure size 432x288 with 1 Axes>"
      ]
     },
     "metadata": {
      "needs_background": "light"
     },
     "output_type": "display_data"
    },
    {
     "name": "stdout",
     "output_type": "stream",
     "text": [
      "Optimal number of epochs based on validation accuracy: 13\n",
      "Test accuracy with optimal epochs: 0.7956\n"
     ]
    }
   ],
   "source": [
    "# 1) Load Reuters and split train/val exactly as required\n",
    "from keras.datasets import reuters\n",
    "from keras import models, layers\n",
    "from keras.utils import to_categorical\n",
    "import numpy as np\n",
    "import matplotlib.pyplot as plt\n",
    "\n",
    "(num_words) = 10000\n",
    "(train_data, train_labels), (test_data, test_labels) = reuters.load_data(num_words=num_words)\n",
    "\n",
    "# 2) Vectorize sequences\n",
    "def vectorize_sequences(sequences, dimension=num_words):\n",
    "    x = np.zeros((len(sequences), dimension))\n",
    "    for i, seq in enumerate(sequences):\n",
    "        x[i, seq] = 1.0\n",
    "    return x\n",
    "\n",
    "# Train / Val split (7,982 / 1,000)\n",
    "x_train = vectorize_sequences(train_data[:7982])\n",
    "y_train = to_categorical(train_labels[:7982], num_classes=46)\n",
    "\n",
    "x_val   = vectorize_sequences(train_data[7982:8982])\n",
    "y_val   = to_categorical(train_labels[7982:8982], num_classes=46)\n",
    "\n",
    "# Test set: all remaining 2,246 examples\n",
    "x_test  = vectorize_sequences(test_data)            # shape (2246, 10000)\n",
    "y_test  = to_categorical(test_labels, num_classes=46)\n",
    "\n",
    "# 3) Build the model (same architecture as the example)\n",
    "def build_model():\n",
    "    model = models.Sequential()\n",
    "    model.add(layers.Dense(64, activation='relu', input_shape=(num_words,)))\n",
    "    model.add(layers.Dense(64, activation='relu'))\n",
    "    model.add(layers.Dense(46, activation='softmax'))\n",
    "    model.compile(optimizer='rmsprop',\n",
    "                  loss='categorical_crossentropy',\n",
    "                  metrics=['accuracy'])\n",
    "    return model\n",
    "\n",
    "model = build_model()\n",
    "\n",
    "# 4) Train with validation to select the optimal epoch\n",
    "history = model.fit(\n",
    "    x_train, y_train,\n",
    "    epochs=20,\n",
    "    batch_size=512,\n",
    "    validation_data=(x_val, y_val),\n",
    "    verbose=0\n",
    ")\n",
    "\n",
    "# 5) Plot training/validation accuracy vs. epochs\n",
    "acc     = history.history.get('accuracy', history.history.get('acc'))\n",
    "val_acc = history.history.get('val_accuracy', history.history.get('val_acc'))\n",
    "epochs  = range(1, len(acc) + 1)\n",
    "\n",
    "plt.figure()\n",
    "plt.plot(epochs, acc,     label='Training acc')\n",
    "plt.plot(epochs, val_acc, label='Validation acc')\n",
    "plt.xlabel('Epochs'); plt.ylabel('Accuracy'); plt.title('Training vs Validation Accuracy')\n",
    "plt.legend(); plt.show()\n",
    "\n",
    "# 6) Choose optimal epoch (highest validation accuracy)\n",
    "best_epoch = int(np.argmax(val_acc) + 1)\n",
    "print(\"Optimal number of epochs based on validation accuracy:\", best_epoch)\n",
    "\n",
    "# 7) Retrain from scratch on ALL 8,982 (train + val) for 'best_epoch' epochs\n",
    "x_full = np.vstack([x_train, x_val])\n",
    "y_full = np.vstack([y_train, y_val])\n",
    "\n",
    "final_model = build_model()\n",
    "final_model.fit(x_full, y_full, epochs=best_epoch, batch_size=512, verbose=0)\n",
    "\n",
    "# 8) Evaluate on the 2,246 test examples\n",
    "test_loss, test_acc = final_model.evaluate(x_test, y_test, verbose=0)\n",
    "print(\"Test accuracy with optimal epochs:\", round(test_acc, 4))\n"
   ]
  }
 ],
 "metadata": {
  "kernelspec": {
   "display_name": "Python 3",
   "language": "python",
   "name": "python3"
  },
  "language_info": {
   "codemirror_mode": {
    "name": "ipython",
    "version": 3
   },
   "file_extension": ".py",
   "mimetype": "text/x-python",
   "name": "python",
   "nbconvert_exporter": "python",
   "pygments_lexer": "ipython3",
   "version": "3.7.6"
  }
 },
 "nbformat": 4,
 "nbformat_minor": 5
}
